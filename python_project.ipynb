{
  "nbformat": 4,
  "nbformat_minor": 0,
  "metadata": {
    "colab": {
      "provenance": [],
      "authorship_tag": "ABX9TyPH0Ao6G4glUAPvN4M86BJD",
      "include_colab_link": true
    },
    "kernelspec": {
      "name": "python3",
      "display_name": "Python 3"
    },
    "language_info": {
      "name": "python"
    }
  },
  "cells": [
    {
      "cell_type": "markdown",
      "metadata": {
        "id": "view-in-github",
        "colab_type": "text"
      },
      "source": [
        "<a href=\"https://colab.research.google.com/github/Preethika2003/python-project/blob/main/python_project.ipynb\" target=\"_parent\"><img src=\"https://colab.research.google.com/assets/colab-badge.svg\" alt=\"Open In Colab\"/></a>"
      ]
    },
    {
      "cell_type": "code",
      "execution_count": 1,
      "metadata": {
        "colab": {
          "base_uri": "https://localhost:8080/"
        },
        "id": "zBSLELfbQXon",
        "outputId": "6f8a225c-0c2a-44fc-e19b-fd4e65b4cf26"
      },
      "outputs": [
        {
          "output_type": "stream",
          "name": "stdout",
          "text": [
            "1. Create Ticket\n",
            "2. View Tickets\n",
            "3. Update Ticket Status\n",
            "Enter your choice: 1\n",
            "Enter ticket title: movie\n",
            "Enter ticket description: request\n",
            "Enter ticket category (Bug/Request/Network Issue): bug\n",
            "Ticket created successfully!\n"
          ]
        }
      ],
      "source": [
        "'''\n",
        "Smart Helpdesk Ticketing System\n",
        "Author: [Pree]\n",
        "Description: A Python-based mini ITSM tool for managing support tickets using a local database.\n",
        "'''\n",
        "\n",
        "import sqlite3\n",
        "from datetime import datetime\n",
        "\n",
        "# Database setup\n",
        "def create_tables():\n",
        "    conn = sqlite3.connect('tickets.db')\n",
        "    c = conn.cursor()\n",
        "    c.execute('''\n",
        "        CREATE TABLE IF NOT EXISTS tickets (\n",
        "            id INTEGER PRIMARY KEY AUTOINCREMENT,\n",
        "            title TEXT NOT NULL,\n",
        "            description TEXT NOT NULL,\n",
        "            category TEXT NOT NULL,\n",
        "            status TEXT DEFAULT 'Open',\n",
        "            created_at TEXT,\n",
        "            updated_at TEXT\n",
        "        )\n",
        "    ''')\n",
        "    conn.commit()\n",
        "    conn.close()\n",
        "\n",
        "# Create a new ticket\n",
        "def create_ticket(title, description, category):\n",
        "    now = datetime.now().strftime('%Y-%m-%d %H:%M:%S')\n",
        "    conn = sqlite3.connect('tickets.db')\n",
        "    c = conn.cursor()\n",
        "    c.execute('''INSERT INTO tickets (title, description, category, created_at, updated_at)\n",
        "                 VALUES (?, ?, ?, ?, ?)''', (title, description, category, now, now))\n",
        "    conn.commit()\n",
        "    conn.close()\n",
        "    print(\"Ticket created successfully!\")\n",
        "\n",
        "# View all tickets\n",
        "def view_tickets():\n",
        "    conn = sqlite3.connect('tickets.db')\n",
        "    c = conn.cursor()\n",
        "    c.execute(\"SELECT * FROM tickets\")\n",
        "    rows = c.fetchall()\n",
        "    for row in rows:\n",
        "        print(row)\n",
        "    conn.close()\n",
        "\n",
        "# Update ticket status\n",
        "def update_ticket_status(ticket_id, new_status):\n",
        "    now = datetime.now().strftime('%Y-%m-%d %H:%M:%S')\n",
        "    conn = sqlite3.connect('tickets.db')\n",
        "    c = conn.cursor()\n",
        "    c.execute(\"UPDATE tickets SET status = ?, updated_at = ? WHERE id = ?\", (new_status, now, ticket_id))\n",
        "    conn.commit()\n",
        "    conn.close()\n",
        "    print(\"Ticket updated successfully!\")\n",
        "\n",
        "# Entry point for testing\n",
        "if __name__ == '__main__':\n",
        "    create_tables()\n",
        "    print(\"1. Create Ticket\\n2. View Tickets\\n3. Update Ticket Status\")\n",
        "    choice = input(\"Enter your choice: \")\n",
        "\n",
        "    if choice == '1':\n",
        "        title = input(\"Enter ticket title: \")\n",
        "        description = input(\"Enter ticket description: \")\n",
        "        category = input(\"Enter ticket category (Bug/Request/Network Issue): \")\n",
        "        create_ticket(title, description, category)\n",
        "    elif choice == '2':\n",
        "        view_tickets()\n",
        "    elif choice == '3':\n",
        "        ticket_id = int(input(\"Enter ticket ID: \"))\n",
        "        new_status = input(\"Enter new status (Open/In Progress/Resolved): \")\n",
        "        update_ticket_status(ticket_id, new_status)\n",
        "    else:\n",
        "        print(\"Invalid choice.\")\n"
      ]
    }
  ]
}